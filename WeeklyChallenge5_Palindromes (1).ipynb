{
  "nbformat": 4,
  "nbformat_minor": 0,
  "metadata": {
    "kernelspec": {
      "display_name": "Python 3",
      "language": "python",
      "name": "python3"
    },
    "language_info": {
      "codemirror_mode": {
        "name": "ipython",
        "version": 3
      },
      "file_extension": ".py",
      "mimetype": "text/x-python",
      "name": "python",
      "nbconvert_exporter": "python",
      "pygments_lexer": "ipython3",
      "version": "3.7.6"
    },
    "colab": {
      "name": "WeeklyChallenge5_Palindromes.ipynb",
      "provenance": [],
      "collapsed_sections": []
    }
  },
  "cells": [
    {
      "cell_type": "markdown",
      "metadata": {
        "id": "8_h2Fs8XBeGb",
        "colab_type": "text"
      },
      "source": [
        "# Weekly Challenge #5 - Palindromes"
      ]
    },
    {
      "cell_type": "markdown",
      "metadata": {
        "id": "ibsCzoRsBeGg",
        "colab_type": "text"
      },
      "source": [
        "An **palindrome** is a word, phrase, or sequence that reads the same backward as forward. \n",
        "\n",
        "Write a function that accepts a string, `word`, containing a random English word as input, and returns a statement of either \"`word` is a palindrome\"  or \"`word` is not a palindrome\" depending on whether or not the word is a \"palindrome\".\n",
        "\n",
        "Examples:\n",
        "\n",
        "- \"racecar\" is a palindrome because it is spelled \"racecar\" when spelling it backwards.\n",
        "\n",
        "- \"madam\" is a palindrome because it is spelled \"madam\" when spelling it backwards.\n",
        "\n",
        "- \"winning\" is not a palindrome because it is not spelled the same when spelling it backwards: (\"gninniw\")\n",
        "\n",
        "\n",
        "\n",
        "Things that might help:\n",
        "* a *for loop* using the range( ) function\n"
      ]
    },
    {
      "cell_type": "markdown",
      "metadata": {
        "id": "FjbGHVjhBeGl",
        "colab_type": "text"
      },
      "source": [
        "#### Before you start, try this short **For-Loop w/ range( ) Function** tutorial."
      ]
    },
    {
      "cell_type": "markdown",
      "metadata": {
        "id": "qKPyMg45BeGp",
        "colab_type": "text"
      },
      "source": [
        "Given the following list:\n",
        "\n",
        "`cats = [ 'Siamese', 'Persian', 'Ragdoll', 'Bengal', 'Sphynx', 'Himalayan', 'Bombay']`\n",
        "\n",
        "If we wanted to iterate through this list of cat breeds, we would normally use a for-loop to print each breed.\n",
        "\n",
        "**Code**:\n",
        "\n",
        "`for breed in cats:\n",
        "    print(breed)`\n",
        "\n",
        "**Output:**\n",
        "Siamese\n",
        "Persian\n",
        "Ragdoll\n",
        "Bengal\n",
        "Sphynx\n",
        "Himalayan\n",
        "Bombay\n",
        "\n",
        "However, what if we wanted to print the list backwards? How can we specify which indices in the list we would want to print?\n",
        "\n",
        "Luckily, there is syntax in Python that allows you to selectively iterate through lists with their indices by using the **range()** function and its appropriate arguments.\n",
        "\n",
        "If we want to print every other cat breed starting with the first one, we set the for loop's range( ) function with the following indices as arguments:\n",
        "* 0 = starting position\n",
        "* 7 = ending position (EXCLUSIVE)\n",
        "* 2 = incrementer (how many items you want to move by)\n",
        "\n",
        "**Code**:\n",
        "\n",
        "`for breed in range(0, 7, 2):\n",
        "    print(breed)`\n",
        "\n",
        "**Output:**\n",
        "0\n",
        "2\n",
        "4\n",
        "6\n",
        "\n",
        "Note that the names of the breeds did not print out. This is because when we use the range( ) function in a for loop, our iterator then represents the *count* within that range instead of the items in the list. Therefore, we must use the iterator to access the items in our list instead:\n",
        "\n",
        "**Code**:\n",
        "\n",
        "`for breed in range(0, 7, 2):\n",
        "    print(cats[breed])`\n",
        "    \n",
        "**Output:**\n",
        "Siamese\n",
        "Ragdoll\n",
        "Sphynx\n",
        "Bombay\n",
        "\n",
        "#### Try it yourself!\n",
        "Create a for-loop that prints the original list backwards, one by one. Use -1 as your incrementer because you are going backwards this time! "
      ]
    },
    {
      "cell_type": "code",
      "metadata": {
        "id": "jjjvNKZJBeGt",
        "colab_type": "code",
        "colab": {
          "base_uri": "https://localhost:8080/",
          "height": 119
        },
        "outputId": "b97049b4-65a4-4692-ab2b-614069bd6893"
      },
      "source": [
        "#List of cat breeds\n",
        "cats = [ 'Siamese', 'Persian', 'Ragdoll', 'Bengal', 'Sphynx', 'Himalayan', 'Bombay']\n",
        "\n",
        "#Create a for-loop that prints the list backwards. What are your starting/ending positions and what is your incrementer?\n",
        "for breed in range(6,0,-1):\n",
        "  print(cats[breed])\n"
      ],
      "execution_count": null,
      "outputs": [
        {
          "output_type": "stream",
          "text": [
            "Bombay\n",
            "Himalayan\n",
            "Sphynx\n",
            "Bengal\n",
            "Ragdoll\n",
            "Persian\n"
          ],
          "name": "stdout"
        }
      ]
    },
    {
      "cell_type": "markdown",
      "metadata": {
        "id": "CJs6m6z2BeHD",
        "colab_type": "text"
      },
      "source": [
        "## Now try this concept on the Weekly Challenge!"
      ]
    },
    {
      "cell_type": "code",
      "metadata": {
        "id": "U7TF1BxyBeHG",
        "colab_type": "code",
        "colab": {}
      },
      "source": [
        "#Create a FUNCTION that accepts a word and returns a message stating whether it is a palindrome or not.\n",
        "def palindrome_checker(text): #function header\n",
        "  text_backwards = \"\" #empty string to hold the words once written backwards\n",
        "  letter_count = 0 #a variable to all the letters that are the same\n",
        "  for i in range(int(len(text)-1),-1,-1): #counts the word from the last letter(by subtracting 1 from total length) to the first(exclusive) one backwards(-1)\n",
        "    text_backwards += text[i] #this adds the letters backwards to the empty string\n",
        "\n",
        "  for checker, letter in enumerate(text): #the enumerate function uses the index of the word, indicated by text as a point of reference\n",
        "    if letter == text_backwards[checker]:#checks letters in both words at position checker(the index)\n",
        "      letter_count += 1 # adds one to letter_count every time the letters are the same\n",
        "    elif letter != text_backwards[checker]:#checks letters in both words at position checker(the index)\n",
        "      pass #passes if the letter is not the same\n",
        "  if letter_count == len(text): #new conditional that checks to see if the value of letter_count is the same as the length of text\n",
        "    print(text,\" is a palindrome\")#prints out statement saying text is a palindrome\n",
        "  elif letter_count != len(text):#new conditional that checks to see if the value of letter_count is not the same as the length of text\n",
        "    print(text, \"is not a palindrome\")#prints out statement saying text is not a palindrome\n",
        "  return print #returns printed statement\n"
      ],
      "execution_count": null,
      "outputs": []
    },
    {
      "cell_type": "markdown",
      "metadata": {
        "id": "nns9Vr8SBeHP",
        "colab_type": "text"
      },
      "source": [
        "Call your function on different words to test out the results!"
      ]
    },
    {
      "cell_type": "code",
      "metadata": {
        "id": "2im_GS_rBeHR",
        "colab_type": "code",
        "colab": {
          "base_uri": "https://localhost:8080/",
          "height": 51
        },
        "outputId": "a2bc5c49-6d57-46f5-9a64-c1f6513cc96c"
      },
      "source": [
        "palindrome_checker(\"madam\")"
      ],
      "execution_count": null,
      "outputs": [
        {
          "output_type": "stream",
          "text": [
            "madam  is a palindrome\n"
          ],
          "name": "stdout"
        },
        {
          "output_type": "execute_result",
          "data": {
            "text/plain": [
              "<function print>"
            ]
          },
          "metadata": {
            "tags": []
          },
          "execution_count": 67
        }
      ]
    },
    {
      "cell_type": "code",
      "metadata": {
        "id": "rT-a9czeBeHg",
        "colab_type": "code",
        "colab": {
          "base_uri": "https://localhost:8080/",
          "height": 51
        },
        "outputId": "265c15b2-a522-4ba8-8868-f455a38a6038"
      },
      "source": [
        "palindrome_checker(\"hello\")"
      ],
      "execution_count": null,
      "outputs": [
        {
          "output_type": "stream",
          "text": [
            "hello is not a palindrome\n"
          ],
          "name": "stdout"
        },
        {
          "output_type": "execute_result",
          "data": {
            "text/plain": [
              "<function print>"
            ]
          },
          "metadata": {
            "tags": []
          },
          "execution_count": 68
        }
      ]
    },
    {
      "cell_type": "code",
      "metadata": {
        "id": "DISZ8xBLBeHm",
        "colab_type": "code",
        "colab": {
          "base_uri": "https://localhost:8080/",
          "height": 51
        },
        "outputId": "5d0ccc18-dc10-41f5-e03e-90c33138ec1c"
      },
      "source": [
        "palindrome_checker(\"racecar\")"
      ],
      "execution_count": null,
      "outputs": [
        {
          "output_type": "stream",
          "text": [
            "racecar  is a palindrome\n"
          ],
          "name": "stdout"
        },
        {
          "output_type": "execute_result",
          "data": {
            "text/plain": [
              "<function print>"
            ]
          },
          "metadata": {
            "tags": []
          },
          "execution_count": 69
        }
      ]
    },
    {
      "cell_type": "code",
      "metadata": {
        "id": "zE5IFwVlBeHq",
        "colab_type": "code",
        "colab": {
          "base_uri": "https://localhost:8080/",
          "height": 51
        },
        "outputId": "9afcc0d0-f2c7-4007-a9ab-185ae2718e33"
      },
      "source": [
        "palindrome_checker(\"madamimadam\")"
      ],
      "execution_count": null,
      "outputs": [
        {
          "output_type": "stream",
          "text": [
            "madamimadam  is a palindrome\n"
          ],
          "name": "stdout"
        },
        {
          "output_type": "execute_result",
          "data": {
            "text/plain": [
              "<function print>"
            ]
          },
          "metadata": {
            "tags": []
          },
          "execution_count": 71
        }
      ]
    },
    {
      "cell_type": "code",
      "metadata": {
        "id": "_2YQSnyoBeHw",
        "colab_type": "code",
        "colab": {
          "base_uri": "https://localhost:8080/",
          "height": 51
        },
        "outputId": "a0b88d7e-4585-460c-c643-8a2ddca63d1d"
      },
      "source": [
        "palindrome_checker(\"glycolysis\")"
      ],
      "execution_count": null,
      "outputs": [
        {
          "output_type": "stream",
          "text": [
            "glycolysis is not a palindrome\n"
          ],
          "name": "stdout"
        },
        {
          "output_type": "execute_result",
          "data": {
            "text/plain": [
              "<function print>"
            ]
          },
          "metadata": {
            "tags": []
          },
          "execution_count": 72
        }
      ]
    }
  ]
}