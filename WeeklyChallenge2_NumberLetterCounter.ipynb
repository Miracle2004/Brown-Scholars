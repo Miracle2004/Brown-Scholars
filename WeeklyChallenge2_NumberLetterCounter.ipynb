{
 "cells": [
  {
   "cell_type": "markdown",
   "metadata": {},
   "source": [
    "# Weekly Challenge #2\n",
    "\n",
    "Use a **for loop** and **conditionals** to write a Python program that checks out a string and calculates the number of letters and numbers inside it. \n",
    "\n",
    "Use two methods to help you:\n",
    "* .isdigit() is a method that checks whether a string is a number and returns true if it is\n",
    "* .isalpha() is a method that checks whether a string is a letter in the alphabet and returns true if it is"
   ]
  },
  {
   "cell_type": "code",
   "execution_count": null,
   "metadata": {},
   "outputs": [],
   "source": []
  },
  {
   "cell_type": "code",
   "execution_count": null,
   "metadata": {},
   "outputs": [],
   "source": []
  },
  {
   "cell_type": "code",
   "execution_count": null,
   "metadata": {},
   "outputs": [],
   "source": []
  }
 ],
 "metadata": {
  "kernelspec": {
   "display_name": "Python 3",
   "language": "python",
   "name": "python3"
  },
  "language_info": {
   "codemirror_mode": {
    "name": "ipython",
    "version": 3
   },
   "file_extension": ".py",
   "mimetype": "text/x-python",
   "name": "python",
   "nbconvert_exporter": "python",
   "pygments_lexer": "ipython3",
   "version": "3.7.6"
  }
 },
 "nbformat": 4,
 "nbformat_minor": 4
}
